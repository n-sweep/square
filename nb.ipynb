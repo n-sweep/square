{
 "cells": [
  {
   "cell_type": "code",
   "execution_count": null,
   "id": "65d64a3a",
   "metadata": {},
   "outputs": [],
   "source": [
    "import sqlite3\n",
    "import plotly.graph_objs as go\n",
    "# import plotly.express as px\n",
    "import plotly.io as pio\n",
    "import pandas as pd\n",
    "from run import get_client, get_all_orders\n",
    "\n",
    "# plotly setup\n",
    "pio.renderers.default = 'notebook'\n",
    "pd.options.plotting.backend = 'plotly'\n",
    "\n",
    "\n",
    "def pwrite(fig, plt='/tmp/vis/plot.json'):\n",
    "    fig = fig.update_layout(autosize=False)\n",
    "    fig.write_json(plt)"
   ]
  },
  {
   "cell_type": "markdown",
   "id": "1ad018a4",
   "metadata": {},
   "source": [
    "# KH analysis"
   ]
  },
  {
   "cell_type": "code",
   "execution_count": null,
   "id": "b4c5ddd4",
   "metadata": {},
   "outputs": [],
   "source": [
    "db = sqlite3.connect('/home/n/.data/kh.db')\n",
    "cur = db.cursor()"
   ]
  },
  {
   "cell_type": "code",
   "execution_count": null,
   "id": "bc94414d",
   "metadata": {},
   "outputs": [],
   "source": [
    "client = get_client('/home/n/.config/square/token')\n",
    "res = get_all_orders(client)"
   ]
  },
  {
   "cell_type": "code",
   "execution_count": null,
   "id": "a22afbe6",
   "metadata": {},
   "outputs": [],
   "source": [
    "len(res)"
   ]
  },
  {
   "cell_type": "code",
   "execution_count": null,
   "id": "55cd650d",
   "metadata": {},
   "outputs": [],
   "source": [
    "# prepare input data for recursive function\n",
    "inpt = pd.DataFrame({'transactions': res})\n",
    "inpt['transactions'] = inpt['transactions'].apply(lambda x: [x])"
   ]
  },
  {
   "cell_type": "code",
   "execution_count": null,
   "id": "7ae7ab69",
   "metadata": {},
   "outputs": [],
   "source": [
    "def convert_unhashable_columns_to_df(df):\n",
    "    # unhashable columns are lists of more json structure\n",
    "    # they need to be expanded into their own tables\n",
    "    output = {}\n",
    "\n",
    "    # find unhashable columns in input dataframe\n",
    "    uhc = [c for c in df.columns if df[c].apply(lambda x: isinstance(x, list)).any()]\n",
    "\n",
    "    for key in uhc:\n",
    "        # expand tables (normalize the json structures)\n",
    "        srs = df[key]\n",
    "        frame = pd.json_normalize(srs[srs.notna()])\n",
    "        frame = pd.json_normalize(frame.stack())\n",
    "\n",
    "        # convert date columns to date type\n",
    "        for d in [c for c in frame.columns if c.endswith('_at')]:\n",
    "            frame[d] = pd.to_datetime(frame[d], format='ISO8601')\n",
    "\n",
    "        # recursively check the resulting dataframe for more unhashable columns\n",
    "        iframes, to_drop = convert_unhashable_columns_to_df(frame)\n",
    "\n",
    "        if iframes:\n",
    "            # update `output` with any expanded dataframes\n",
    "            output.update(iframes)\n",
    "\n",
    "            # drop extracted keys from current frame\n",
    "            frame = frame.drop(to_drop, axis=1)\n",
    "\n",
    "        # add to `output`\n",
    "        output[key] = frame\n",
    "\n",
    "    return output, uhc"
   ]
  },
  {
   "cell_type": "code",
   "execution_count": null,
   "id": "0aca51f7",
   "metadata": {},
   "outputs": [],
   "source": [
    "frames, _ = convert_unhashable_columns_to_df(inpt)"
   ]
  },
  {
   "cell_type": "code",
   "execution_count": null,
   "id": "bfc95de9",
   "metadata": {},
   "outputs": [],
   "source": [
    "for name, frame in frames.items():\n",
    "    frame.columns = [c.replace('.', '_') for c in frame.columns]\n",
    "    frame.to_sql(name, db, if_exists='replace')"
   ]
  },
  {
   "cell_type": "code",
   "execution_count": null,
   "id": "f98eddaf",
   "metadata": {},
   "outputs": [],
   "source": [
    "df = frames['transactions']\n",
    "df['total_money_amount'] *= 0.01\n",
    "df['date'] = df['closed_at'].dt.date\n",
    "df['day'] = df['closed_at'].dt.day\n",
    "df['week'] = df['closed_at'].dt.isocalendar().week\n",
    "df['month'] = df['closed_at'].dt.month\n",
    "df['year'] = df['closed_at'].dt.year"
   ]
  },
  {
   "cell_type": "code",
   "execution_count": null,
   "id": "76944754",
   "metadata": {},
   "outputs": [],
   "source": [
    "df.info()"
   ]
  },
  {
   "cell_type": "code",
   "execution_count": null,
   "id": "e0ef8773",
   "metadata": {},
   "outputs": [],
   "source": [
    "tp = df.groupby(['year', 'week']).agg({\n",
    "    'date': 'min',\n",
    "    'id': 'count',\n",
    "    'total_money_amount': 'sum',\n",
    "})"
   ]
  },
  {
   "cell_type": "code",
   "execution_count": null,
   "id": "9d46f6dd",
   "metadata": {},
   "outputs": [],
   "source": [
    "tp"
   ]
  },
  {
   "cell_type": "code",
   "execution_count": null,
   "id": "34889467",
   "metadata": {},
   "outputs": [],
   "source": [
    "fig = go.Figure()\n",
    "\n",
    "fig.add_trace(go.Scatter(\n",
    "    x=tp['date'],\n",
    "    y=tp['total_money_amount'],\n",
    "))\n",
    "\n",
    "pwrite(fig)"
   ]
  },
  {
   "cell_type": "code",
   "execution_count": null,
   "id": "754acb0b",
   "metadata": {
    "lines_to_next_cell": 0
   },
   "outputs": [],
   "source": []
  },
  {
   "cell_type": "code",
   "execution_count": null,
   "id": "65b041c1",
   "metadata": {
    "lines_to_next_cell": 0
   },
   "outputs": [],
   "source": []
  },
  {
   "cell_type": "code",
   "execution_count": null,
   "id": "3b079077",
   "metadata": {
    "lines_to_next_cell": 0
   },
   "outputs": [],
   "source": []
  },
  {
   "cell_type": "code",
   "execution_count": null,
   "id": "cf505199",
   "metadata": {
    "lines_to_next_cell": 0
   },
   "outputs": [],
   "source": []
  },
  {
   "cell_type": "code",
   "execution_count": null,
   "id": "b353b45e",
   "metadata": {
    "lines_to_next_cell": 0
   },
   "outputs": [],
   "source": []
  },
  {
   "cell_type": "code",
   "execution_count": null,
   "id": "46db6f41",
   "metadata": {
    "lines_to_next_cell": 0
   },
   "outputs": [],
   "source": []
  },
  {
   "cell_type": "code",
   "execution_count": null,
   "id": "a882c254",
   "metadata": {
    "lines_to_next_cell": 0
   },
   "outputs": [],
   "source": []
  },
  {
   "cell_type": "code",
   "execution_count": null,
   "id": "4811fecf",
   "metadata": {
    "lines_to_next_cell": 0
   },
   "outputs": [],
   "source": []
  },
  {
   "cell_type": "code",
   "execution_count": null,
   "id": "d8539246",
   "metadata": {
    "lines_to_next_cell": 0
   },
   "outputs": [],
   "source": []
  },
  {
   "cell_type": "code",
   "execution_count": null,
   "id": "32410d71",
   "metadata": {
    "lines_to_next_cell": 0
   },
   "outputs": [],
   "source": []
  },
  {
   "cell_type": "code",
   "execution_count": null,
   "id": "698b1d33",
   "metadata": {
    "lines_to_next_cell": 0
   },
   "outputs": [],
   "source": []
  },
  {
   "cell_type": "code",
   "execution_count": null,
   "id": "da85e20d",
   "metadata": {
    "lines_to_next_cell": 0
   },
   "outputs": [],
   "source": []
  },
  {
   "cell_type": "code",
   "execution_count": null,
   "id": "4dfd6798",
   "metadata": {
    "lines_to_next_cell": 0
   },
   "outputs": [],
   "source": []
  },
  {
   "cell_type": "code",
   "execution_count": null,
   "id": "35998681",
   "metadata": {
    "lines_to_next_cell": 0
   },
   "outputs": [],
   "source": []
  },
  {
   "cell_type": "code",
   "execution_count": null,
   "id": "8fa6d17e",
   "metadata": {
    "lines_to_next_cell": 0
   },
   "outputs": [],
   "source": []
  },
  {
   "cell_type": "code",
   "execution_count": null,
   "id": "806d8fce",
   "metadata": {
    "lines_to_next_cell": 0
   },
   "outputs": [],
   "source": []
  },
  {
   "cell_type": "code",
   "execution_count": null,
   "id": "55e3d2db",
   "metadata": {
    "lines_to_next_cell": 0
   },
   "outputs": [],
   "source": []
  },
  {
   "cell_type": "code",
   "execution_count": null,
   "id": "ed698de3",
   "metadata": {
    "lines_to_next_cell": 0
   },
   "outputs": [],
   "source": []
  },
  {
   "cell_type": "code",
   "execution_count": null,
   "id": "9e654079",
   "metadata": {
    "lines_to_next_cell": 0
   },
   "outputs": [],
   "source": []
  },
  {
   "cell_type": "code",
   "execution_count": null,
   "id": "fc8da2c3",
   "metadata": {},
   "outputs": [],
   "source": []
  }
 ],
 "metadata": {
  "kernelspec": {
   "display_name": "Python3",
   "language": "python",
   "name": "Python3"
  }
 },
 "nbformat": 4,
 "nbformat_minor": 5
}
